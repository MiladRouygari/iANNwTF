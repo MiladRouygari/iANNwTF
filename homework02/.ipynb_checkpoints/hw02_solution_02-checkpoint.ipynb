{
 "cells": [
  {
   "cell_type": "markdown",
   "metadata": {},
   "source": [
    "# Work in porgress!!!!"
   ]
  },
  {
   "cell_type": "code",
   "execution_count": null,
   "metadata": {},
   "outputs": [],
   "source": [
    "# Reference:\n",
    "# https://github.com/Frixoe/xor-neural-network/blob/master/XOR-Net-Notebook.ipynb"
   ]
  },
  {
   "cell_type": "code",
   "execution_count": null,
   "metadata": {},
   "outputs": [],
   "source": [
    "# Tasks Left:\n",
    "# Cost function? \n",
    "# Visualization"
   ]
  },
  {
   "cell_type": "code",
   "execution_count": 26,
   "metadata": {},
   "outputs": [],
   "source": [
    "import numpy as np # For matrix math\n",
    "import matplotlib.pyplot as plt # For plotting\n",
    "\n",
    "import sys # For printing"
   ]
  },
  {
   "cell_type": "code",
   "execution_count": 27,
   "metadata": {},
   "outputs": [],
   "source": [
    "# The training data.\n",
    "X = np.array([[0, 0],[0, 1],[1, 0],[1, 1]])\n",
    "\n",
    "# The labels XOR \n",
    "y = np.array([[1],[1],[0],[0]])\n",
    "\n",
    "# The other labels\n",
    "# y   = np.array([0,0,0,1]) # and\n",
    "# y   = np.array([0,1,1,1]) # or\n",
    "# y   = np.array([1,1,1,0]) # nand\n",
    "# y   = np.array([1,0,0,0]) # nor\n",
    "# y   = np.array([0,1,1,0]) # Xor"
   ]
  },
  {
   "cell_type": "code",
   "execution_count": 28,
   "metadata": {},
   "outputs": [],
   "source": [
    "num_i_units = 2 # Number of Input units\n",
    "num_h_units = 4 # Number of Hidden units \n",
    "num_o_units = 1 # Number of Output units"
   ]
  },
  {
   "cell_type": "code",
   "execution_count": 29,
   "metadata": {},
   "outputs": [],
   "source": [
    "# The learning rate for Gradient Descent.\n",
    "learning_rate = 1 \n",
    "\n",
    "# The parameter to help with overfitting.\n",
    "reg_param = 0 \n",
    "\n",
    "# Maximum iterations for Gradient Descent.\n",
    "max_iter = 1000\n",
    "\n",
    "# Number of training examples\n",
    "m = 4"
   ]
  },
  {
   "cell_type": "markdown",
   "metadata": {},
   "source": [
    "Diagram of MLP:\n",
    "\n",
    "   o    Output\n",
    "         - W2, B2\n",
    "o o o o Hidden layer\n",
    "         - W1, B1\n",
    "  o o  input layer"
   ]
  },
  {
   "cell_type": "code",
   "execution_count": 30,
   "metadata": {},
   "outputs": [],
   "source": [
    "np.random.seed(1)\n",
    "W1 = np.random.normal(0, 1, (num_h_units, num_i_units)) \n",
    "W2 = np.random.normal(0, 1, (num_o_units, num_h_units)) \n",
    "\n",
    "B1 = np.random.random((num_h_units, 1)) \n",
    "B2 = np.random.random((num_o_units, 1)) "
   ]
  },
  {
   "cell_type": "code",
   "execution_count": 31,
   "metadata": {},
   "outputs": [
    {
     "data": {
      "text/plain": [
       "(array([[ 1.62434536, -0.61175641],\n",
       "        [-0.52817175, -1.07296862],\n",
       "        [ 0.86540763, -2.3015387 ],\n",
       "        [ 1.74481176, -0.7612069 ]]),\n",
       " array([[ 0.3190391 , -0.24937038,  1.46210794, -2.06014071]]),\n",
       " array([[0.14038694],\n",
       "        [0.19810149],\n",
       "        [0.80074457],\n",
       "        [0.96826158]]),\n",
       " array([[0.31342418]]))"
      ]
     },
     "execution_count": 31,
     "metadata": {},
     "output_type": "execute_result"
    }
   ],
   "source": [
    "W1, W2, B1, B2"
   ]
  },
  {
   "cell_type": "code",
   "execution_count": 32,
   "metadata": {},
   "outputs": [],
   "source": [
    "# Activation Function and its derivative\n",
    "def sigmoid(z, derv=False):\n",
    "    if derv: return z * (1 - z)\n",
    "    return 1 / (1 + np.exp(-z))"
   ]
  },
  {
   "cell_type": "code",
   "execution_count": 7,
   "metadata": {},
   "outputs": [],
   "source": [
    "# didn't use this forward function\n",
    "\n",
    "# def forward(x, predict=False):\n",
    "#     a1 = x.reshape(x.shape[0], 1) # Getting the training example as a column vector.\n",
    "\n",
    "#     z2 = W1.dot(a1) + B1 # 2x2 * 2x1 + 2x1 = 2x1\n",
    "#     a2 = sigmoid(z2) # 2x1\n",
    "\n",
    "#     z3 = W2.dot(a2) + B2 # 1x2 * 2x1 + 1x1 = 1x1\n",
    "#     a3 = sigmoid(z3)\n",
    "\n",
    "#     if predict: return a3\n",
    "#     return (a1, a2, a3)"
   ]
  },
  {
   "cell_type": "code",
   "execution_count": 33,
   "metadata": {},
   "outputs": [],
   "source": [
    "# Cost\n",
    "cost = np.zeros((max_iter, 1)) # Column vector to record the cost of the NN after each Gradient Descent iteration."
   ]
  },
  {
   "cell_type": "code",
   "execution_count": 34,
   "metadata": {},
   "outputs": [],
   "source": [
    "def train(_W1, _W2, _B1, _B2): # The arguments are to bypass UnboundLocalError error\n",
    "    for i in range(max_iter):\n",
    "        c = 0\n",
    "        \n",
    "        dW1 = 0 # Gradient for W1 \n",
    "        dW2 = 0\n",
    "\n",
    "        dB1 = 0\n",
    "        dB2 = 0\n",
    "        \n",
    "        for j in range(m):\n",
    "            sys.stdout.write(\"\\rIteration: {} and {}\".format(i + 1, j + 1))\n",
    "\n",
    "            # Forward Prop.\n",
    "            a0 = X[j].reshape(X[j].shape[0], 1) \n",
    "\n",
    "            z1 = _W1.dot(a0) + _B1 \n",
    "            a1 = sigmoid(z1) \n",
    "\n",
    "            z2 = _W2.dot(a1) + _B2 \n",
    "            a2 = sigmoid(z2) \n",
    "\n",
    "            # Back prop.\n",
    "            dz2 = a2 - y[j] \n",
    "            dW2 += dz2 * a1.T \n",
    "\n",
    "            dz1 = np.multiply((_W2.T * dz2), sigmoid(a1, derv=True)) \n",
    "            dW1 += dz1.dot(a0.T) \n",
    "\n",
    "            dB1 += dz1 \n",
    "            dB2 += dz2 \n",
    "\n",
    "            c = c + (-(y[j] * np.log(a2)) - ((1 - y[j]) * np.log(1 - a2)))\n",
    "            sys.stdout.flush() # Updating the text.\n",
    "        \n",
    "        _W1 = _W1 - learning_rate * (dW1 / m) + ( (reg_param / m) * _W1)\n",
    "        _W2 = _W2 - learning_rate * (dW2 / m) + ( (reg_param / m) * _W2)\n",
    "\n",
    "        _B1 = _B1 - learning_rate * (dB1 / m)\n",
    "        _B2 = _B2 - learning_rate * (dB2 / m)\n",
    "        cost[i] = (c / m) + ( \n",
    "            (reg_param / (2 * m)) * \n",
    "            (\n",
    "                np.sum(np.power(_W1, 2)) + \n",
    "                np.sum(np.power(_W2, 2))\n",
    "            )\n",
    "        )\n",
    "    return (_W1, _W2, _B1, _B2)"
   ]
  },
  {
   "cell_type": "markdown",
   "metadata": {},
   "source": [
    "## Running\n",
    "Now, let's try out the NN. Here, I have called the train() function. You can make any changes you like and then run all the kernels again. I have also plotted the cost function to visual how the NN performed.\n",
    "\n",
    "The console printing might be off.\n",
    "\n",
    "The weights and biases are then shown."
   ]
  },
  {
   "cell_type": "code",
   "execution_count": 35,
   "metadata": {},
   "outputs": [
    {
     "name": "stdout",
     "output_type": "stream",
     "text": [
      "Iteration: 1000 and 4"
     ]
    }
   ],
   "source": [
    "W1, W2, B1, B2 = train(W1, W2, B1, B2)"
   ]
  },
  {
   "cell_type": "code",
   "execution_count": 41,
   "metadata": {},
   "outputs": [
    {
     "data": {
      "text/plain": [
       "(array([[ 3.24654218, -0.87002819],\n",
       "        [-2.34841406, -0.29511037],\n",
       "        [-2.72802086, -1.01571635],\n",
       "        [ 5.61867368, -0.90488651]]),\n",
       " array([[-3.28302057,  2.93957913,  3.64695994, -7.90423423]]),\n",
       " array([[-0.95645041],\n",
       "        [ 1.09096737],\n",
       "        [ 1.74518824],\n",
       "        [-2.17736882]]),\n",
       " array([[2.62490152]]))"
      ]
     },
     "execution_count": 41,
     "metadata": {},
     "output_type": "execute_result"
    }
   ],
   "source": [
    "W1, W2, B1, B2"
   ]
  },
  {
   "cell_type": "markdown",
   "metadata": {},
   "source": [
    "### Plotting\n",
    "Now, let's plot a simple plot showing the cost function with respect to the number of iterations of gradient descent."
   ]
  },
  {
   "cell_type": "code",
   "execution_count": 40,
   "metadata": {},
   "outputs": [
    {
     "data": {
      "image/png": "[encoded data removed]",
      "text/plain": [
       "<Figure size 432x288 with 1 Axes>"
      ]
     },
     "metadata": {
      "needs_background": "light"
     },
     "output_type": "display_data"
    }
   ],
   "source": [
    "# Assigning the axes to the different elements.\n",
    "plt.plot(range(max_iter), cost)\n",
    "\n",
    "# Labelling the x axis as the iterations axis.\n",
    "plt.xlabel(\"Iterations\")\n",
    "\n",
    "# Labelling the y axis as the cost axis.\n",
    "plt.ylabel(\"Cost\")\n",
    "\n",
    "# Showing the plot.\n",
    "plt.show()"
   ]
  }
 ],
 "metadata": {
  "kernelspec": {
   "display_name": "Python 3",
   "language": "python",
   "name": "python3"
  },
  "language_info": {
   "codemirror_mode": {
    "name": "ipython",
    "version": 3
   },
   "file_extension": ".py",
   "mimetype": "text/x-python",
   "name": "python",
   "nbconvert_exporter": "python",
   "pygments_lexer": "ipython3",
   "version": "3.7.9"
  }
 },
 "nbformat": 4,
 "nbformat_minor": 2
}
