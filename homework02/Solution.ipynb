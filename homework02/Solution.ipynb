{
 "cells": [
  {
   "cell_type": "markdown",
   "metadata": {},
   "source": [
    "### This is my design"
   ]
  },
  {
   "cell_type": "code",
   "execution_count": null,
   "metadata": {},
   "outputs": [],
   "source": []
  },
  {
   "cell_type": "code",
   "execution_count": 19,
   "metadata": {},
   "outputs": [],
   "source": [
    "# importing the library\n",
    "import numpy as np"
   ]
  },
  {
   "cell_type": "code",
   "execution_count": 21,
   "metadata": {},
   "outputs": [],
   "source": [
    "# define the activation function and its derivative (sigmoid)\n",
    "\n",
    "def sigmoid(x):\n",
    "    \"\"\" This is the sigmoid function.\"\"\"\n",
    "    return 1 / (1 + np.exp(-x))\n",
    "\n",
    "\n",
    "def sigmoidprime(x):\n",
    "    \"\"\" \n",
    "    sigmoind funciton derivative.\n",
    "    using the user defiend sigmoind function above.\n",
    "    \"\"\"\n",
    "    s = sigmoid(x)\n",
    "    return s*(1-s)\n",
    "\n",
    "\n",
    "\n",
    "# diferent way of defining them, with only one function.\n",
    "# def sigmoid_dsigmoid(x):\n",
    "#     s=1/(1+np.exp(-x))\n",
    "#     ds=s*(1-s)  \n",
    "#     return s,ds"
   ]
  },
  {
   "cell_type": "code",
   "execution_count": 35,
   "metadata": {},
   "outputs": [],
   "source": [
    "# input and label\n",
    "x = np.array([[0,0],[0,1],[1,0],[1,1]])\n",
    "\n",
    "t_and   = np.array([0,0,0,1])\n",
    "t_or    = np.array([0,1,1,1])\n",
    "t_nand  = np.array([1,1,1,0])\n",
    "t_nor   = np.array([1,0,0,0])\n",
    "t_xor   = np.array([0,1,1,0])\n"
   ]
  },
  {
   "cell_type": "code",
   "execution_count": null,
   "metadata": {},
   "outputs": [],
   "source": []
  }
 ],
 "metadata": {
  "kernelspec": {
   "display_name": "Python 3",
   "language": "python",
   "name": "python3"
  },
  "language_info": {
   "codemirror_mode": {
    "name": "ipython",
    "version": 3
   },
   "file_extension": ".py",
   "mimetype": "text/x-python",
   "name": "python",
   "nbconvert_exporter": "python",
   "pygments_lexer": "ipython3",
   "version": "3.7.9"
  }
 },
 "nbformat": 4,
 "nbformat_minor": 4
}
