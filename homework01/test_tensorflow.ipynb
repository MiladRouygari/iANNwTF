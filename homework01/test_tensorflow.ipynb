{
 "cells": [
  {
   "cell_type": "code",
   "execution_count": 1,
   "metadata": {},
   "outputs": [
    {
     "name": "stdout",
     "output_type": "stream",
     "text": [
      "Epoch 1/5\n",
      "1875/1875 [==============================] - 2s 1ms/step - loss: 0.3012 - accuracy: 0.9107\n",
      "Epoch 2/5\n",
      "1875/1875 [==============================] - 2s 1ms/step - loss: 0.1456 - accuracy: 0.9576\n",
      "Epoch 3/5\n",
      "1875/1875 [==============================] - 2s 1ms/step - loss: 0.1081 - accuracy: 0.9679\n",
      "Epoch 4/5\n",
      "1875/1875 [==============================] - 2s 1ms/step - loss: 0.0910 - accuracy: 0.9725\n",
      "Epoch 5/5\n",
      "1875/1875 [==============================] - 2s 1ms/step - loss: 0.0761 - accuracy: 0.9759\n",
      "313/313 - 0s - loss: 0.0758 - accuracy: 0.9759\n"
     ]
    },
    {
     "data": {
      "text/plain": [
       "<tf.Tensor: shape=(5, 10), dtype=float32, numpy=\n",
       "array([[9.90907409e-08, 2.46116749e-09, 7.43812780e-06, 1.06279818e-04,\n",
       "        1.22292884e-10, 1.76738510e-07, 8.34129936e-16, 9.99881625e-01,\n",
       "        1.60029700e-07, 4.09511767e-06],\n",
       "       [1.33091532e-07, 1.65930924e-05, 9.99967575e-01, 1.54479785e-05,\n",
       "        1.71747031e-17, 6.46860414e-08, 2.64439892e-09, 2.47185949e-14,\n",
       "        2.51458289e-07, 1.96656169e-15],\n",
       "       [4.57939166e-07, 9.98291075e-01, 4.98495938e-04, 1.40366465e-05,\n",
       "        3.87185937e-05, 6.02872069e-06, 5.59887412e-05, 7.92612787e-04,\n",
       "        2.96275335e-04, 6.28900989e-06],\n",
       "       [9.99871969e-01, 1.50503721e-10, 1.13908769e-04, 3.69111194e-06,\n",
       "        4.43685515e-08, 1.59936997e-06, 2.15010527e-06, 3.51862218e-06,\n",
       "        5.65377860e-08, 3.09046118e-06],\n",
       "       [1.45490105e-06, 4.58700171e-08, 1.01359128e-05, 2.80394055e-08,\n",
       "        9.98742998e-01, 2.55820964e-07, 9.86121478e-08, 6.15324025e-05,\n",
       "        2.09894324e-06, 1.18132203e-03]], dtype=float32)>"
      ]
     },
     "execution_count": 1,
     "metadata": {},
     "output_type": "execute_result"
    }
   ],
   "source": [
    "import tensorflow as tf\n",
    "import matplotlib\n",
    "\n",
    "'''\n",
    "This is a short tensorflow script which trains a classifier on the MNIST dataset. \n",
    "You dont have to understand it. Just execute it to check if your tensorflow installation works correctly.\n",
    "If you want to understand whats going on, check out the corresponding guide: https://www.tensorflow.org/tutorials/quickstart/beginner\n",
    "'''\n",
    "\n",
    "mnist = tf.keras.datasets.mnist \n",
    "\n",
    "(x_train, y_train), (x_test, y_test) = mnist.load_data()\n",
    "x_train, x_test = x_train / 255.0, x_test / 255.0\n",
    "\n",
    "model = tf.keras.models.Sequential([\n",
    "  tf.keras.layers.Flatten(input_shape=(28, 28)),\n",
    "  tf.keras.layers.Dense(128, activation='relu'),\n",
    "  tf.keras.layers.Dropout(0.2),\n",
    "  tf.keras.layers.Dense(10)\n",
    "])\n",
    "\n",
    "predictions = model(x_train[:1]).numpy()\n",
    "\n",
    "\n",
    "tf.nn.softmax(predictions).numpy()\n",
    "\n",
    "\n",
    "loss_fn = tf.keras.losses.SparseCategoricalCrossentropy(from_logits=True)\n",
    "\n",
    "\n",
    "loss_fn(y_train[:1], predictions).numpy()\n",
    "\n",
    "model.compile(optimizer='adam',\n",
    "              loss=loss_fn,\n",
    "              metrics=['accuracy'])\n",
    "\n",
    "model.fit(x_train, y_train, epochs=5)\n",
    "\n",
    "model.evaluate(x_test,  y_test, verbose=2)\n",
    "\n",
    "\n",
    "probability_model = tf.keras.Sequential([\n",
    "  model,\n",
    "  tf.keras.layers.Softmax()\n",
    "])\n",
    "\n",
    "probability_model(x_test[:5])\n"
   ]
  },
  {
   "cell_type": "code",
   "execution_count": null,
   "metadata": {},
   "outputs": [],
   "source": []
  }
 ],
 "metadata": {
  "kernelspec": {
   "display_name": "Python 3",
   "language": "python",
   "name": "python3"
  },
  "language_info": {
   "codemirror_mode": {
    "name": "ipython",
    "version": 3
   },
   "file_extension": ".py",
   "mimetype": "text/x-python",
   "name": "python",
   "nbconvert_exporter": "python",
   "pygments_lexer": "ipython3",
   "version": "3.7.9"
  }
 },
 "nbformat": 4,
 "nbformat_minor": 4
}
